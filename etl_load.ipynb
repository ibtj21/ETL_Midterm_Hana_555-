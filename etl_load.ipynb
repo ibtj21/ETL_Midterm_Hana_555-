{
 "cells": [
  {
   "cell_type": "markdown",
   "id": "0d86519f",
   "metadata": {},
   "source": [
    "## **Loading Transformed Retail Transaction Records**"
   ]
  },
  {
   "cell_type": "markdown",
   "id": "4039c4a3",
   "metadata": {},
   "source": [
    "### **Full Data**"
   ]
  },
  {
   "cell_type": "code",
   "execution_count": 6,
   "id": "f81ea651",
   "metadata": {},
   "outputs": [],
   "source": [
    "# Importing the pandas library and giving it an alias 'pd' for data manipulation and analysis\n",
    "import pandas as pd"
   ]
  },
  {
   "cell_type": "code",
   "execution_count": 7,
   "id": "53d79612",
   "metadata": {},
   "outputs": [],
   "source": [
    "# Reading the CSV file named 'raw_data.csv' into a DataFrame called df_full\n",
    "df_full = pd.read_csv(\"transformed_full.csv\")"
   ]
  },
  {
   "cell_type": "code",
   "execution_count": 8,
   "id": "edf9c303",
   "metadata": {},
   "outputs": [
    {
     "name": "stdout",
     "output_type": "stream",
     "text": [
      "   order_id customer_name  product  quantity  unit_price  order_date region  \\\n",
      "0         1         Diana   Tablet         2       500.0  2024-01-20  South   \n",
      "1         3       Charlie   Laptop         2       250.0  2024-01-08  South   \n",
      "2         4           Eve   Laptop         2       750.0  2024-01-07   West   \n",
      "3         5           Eve   Tablet         3       500.0  2024-03-07  South   \n",
      "4         7       Charlie  Monitor         2       750.0  2024-02-02   West   \n",
      "\n",
      "   total_price price_category  \n",
      "0       1000.0      Mid-range  \n",
      "1        500.0       Low-cost  \n",
      "2       1500.0        Premium  \n",
      "3       1500.0      Mid-range  \n",
      "4       1500.0        Premium  \n"
     ]
    }
   ],
   "source": [
    "# Save the DataFrame as a Parquet file\n",
    "df_full.to_parquet('full_data.parquet', index=False)\n",
    "\n",
    "# Read and preview the Parquet file\n",
    "preview_df = pd.read_parquet('full_data.parquet')\n",
    "print(preview_df.head())\n"
   ]
  },
  {
   "cell_type": "markdown",
   "id": "484520b4",
   "metadata": {},
   "source": [
    "### **Incremental Data**"
   ]
  },
  {
   "cell_type": "code",
   "execution_count": 9,
   "id": "62117a9a",
   "metadata": {},
   "outputs": [],
   "source": [
    "# Reading the CSV file named 'raw_data.csv' into a DataFrame called df_full\n",
    "df_incremental = pd.read_csv(\"transformed_incremental.csv\")"
   ]
  },
  {
   "cell_type": "code",
   "execution_count": 10,
   "id": "13d5adbd",
   "metadata": {},
   "outputs": [
    {
     "name": "stdout",
     "output_type": "stream",
     "text": [
      "   order_id customer_name product  quantity  unit_price  order_date   region  \\\n",
      "0       101         Alice  Laptop         2       900.0  2024-05-09  Central   \n",
      "1       102       Unknown  Laptop         1       300.0  2024-05-07  Central   \n",
      "2       103       Unknown  Laptop         1       600.0  2024-05-04  Central   \n",
      "3       104       Unknown  Tablet         2       300.0  2024-05-26  Central   \n",
      "4       105         Heidi  Tablet         2       600.0  2024-05-21    North   \n",
      "\n",
      "   total_price price_category  \n",
      "0       1800.0        Premium  \n",
      "1        300.0       Low-cost  \n",
      "2        600.0       Low-cost  \n",
      "3        600.0       Low-cost  \n",
      "4       1200.0       Low-cost  \n"
     ]
    }
   ],
   "source": [
    "# Save the DataFrame as a Parquet file\n",
    "df_incremental.to_parquet('incremental_data.parquet', index=False)\n",
    "\n",
    "# Read and preview the Parquet file\n",
    "preview_df = pd.read_parquet('incremental_data.parquet')\n",
    "print(preview_df.head())\n"
   ]
  }
 ],
 "metadata": {
  "kernelspec": {
   "display_name": "Python 3",
   "language": "python",
   "name": "python3"
  },
  "language_info": {
   "codemirror_mode": {
    "name": "ipython",
    "version": 3
   },
   "file_extension": ".py",
   "mimetype": "text/x-python",
   "name": "python",
   "nbconvert_exporter": "python",
   "pygments_lexer": "ipython3",
   "version": "3.12.10"
  }
 },
 "nbformat": 4,
 "nbformat_minor": 5
}

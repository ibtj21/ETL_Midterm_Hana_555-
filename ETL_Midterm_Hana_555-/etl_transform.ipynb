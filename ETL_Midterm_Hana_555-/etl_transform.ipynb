{
 "cells": [
  {
   "cell_type": "markdown",
   "id": "4143e254",
   "metadata": {},
   "source": [
    "## **Structured Transformation of Retail Transaction Records**"
   ]
  },
  {
   "cell_type": "markdown",
   "id": "1df41ec8",
   "metadata": {},
   "source": [
    "### **Full Data**"
   ]
  },
  {
   "cell_type": "markdown",
   "id": "7b8612a8",
   "metadata": {},
   "source": [
    "#### 🧹✨ **1. Cleaning**"
   ]
  },
  {
   "cell_type": "code",
   "execution_count": 1076,
   "id": "6d31936b",
   "metadata": {},
   "outputs": [],
   "source": [
    "# Importing the pandas library and giving it an alias 'pd' for data manipulation and analysis\n",
    "import pandas as pd"
   ]
  },
  {
   "cell_type": "code",
   "execution_count": 1077,
   "id": "5afe3097",
   "metadata": {},
   "outputs": [],
   "source": [
    "# Reading the CSV file named 'raw_data.csv' into a DataFrame called df_full\n",
    "df_full = pd.read_csv(\"raw_data.csv\")"
   ]
  },
  {
   "cell_type": "markdown",
   "id": "50d67b1f",
   "metadata": {},
   "source": [
    "#### *Handling Duplicated Values*"
   ]
  },
  {
   "cell_type": "markdown",
   "id": "94b2e510",
   "metadata": {},
   "source": [
    "##### Before"
   ]
  },
  {
   "cell_type": "code",
   "execution_count": 1078,
   "id": "7dcc0e4d",
   "metadata": {},
   "outputs": [
    {
     "data": {
      "text/plain": [
       "1"
      ]
     },
     "execution_count": 1078,
     "metadata": {},
     "output_type": "execute_result"
    }
   ],
   "source": [
    "df_full.duplicated().sum()"
   ]
  },
  {
   "cell_type": "markdown",
   "id": "2df07993",
   "metadata": {},
   "source": [
    "##### Transformation"
   ]
  },
  {
   "cell_type": "code",
   "execution_count": 1079,
   "id": "8837cdcb",
   "metadata": {},
   "outputs": [],
   "source": [
    "# Drop duplicate rows from the dataset\n",
    "df_full = df_full.drop_duplicates()"
   ]
  },
  {
   "cell_type": "markdown",
   "id": "1fdb785d",
   "metadata": {},
   "source": [
    "##### After"
   ]
  },
  {
   "cell_type": "code",
   "execution_count": 1080,
   "id": "6022aec6",
   "metadata": {},
   "outputs": [
    {
     "data": {
      "text/plain": [
       "0"
      ]
     },
     "execution_count": 1080,
     "metadata": {},
     "output_type": "execute_result"
    }
   ],
   "source": [
    "df_full.duplicated().sum()"
   ]
  },
  {
   "cell_type": "markdown",
   "id": "90ee6ac8",
   "metadata": {},
   "source": [
    "___\n",
    "##### Transformation : Explanation\n",
    "There was **1 duplicate row** in the dataset, which has been **removed** / **dropped**  to maintain data integrity and prevent **inaccurate analysis or double-counting** during aggregation or visualization.\n",
    "___"
   ]
  },
  {
   "cell_type": "markdown",
   "id": "7d3f9538",
   "metadata": {},
   "source": [
    "#### *Handling Missing Values*"
   ]
  },
  {
   "cell_type": "markdown",
   "id": "112888c4",
   "metadata": {},
   "source": [
    "##### Before"
   ]
  },
  {
   "cell_type": "code",
   "execution_count": 1081,
   "id": "d9df6f53",
   "metadata": {},
   "outputs": [
    {
     "name": "stdout",
     "output_type": "stream",
     "text": [
      "<class 'pandas.core.frame.DataFrame'>\n",
      "Index: 99 entries, 0 to 99\n",
      "Data columns (total 7 columns):\n",
      " #   Column         Non-Null Count  Dtype  \n",
      "---  ------         --------------  -----  \n",
      " 0   order_id       99 non-null     int64  \n",
      " 1   customer_name  98 non-null     object \n",
      " 2   product        99 non-null     object \n",
      " 3   quantity       73 non-null     float64\n",
      " 4   unit_price     64 non-null     float64\n",
      " 5   order_date     98 non-null     object \n",
      " 6   region         74 non-null     object \n",
      "dtypes: float64(2), int64(1), object(4)\n",
      "memory usage: 6.2+ KB\n"
     ]
    }
   ],
   "source": [
    "# Displaying a summary of the DataFrame, including:\n",
    "# - Number of entries (rows)\n",
    "# - Column names and their data types\n",
    "# - Number of non-null (non-missing) values per column\n",
    "df_full.info()"
   ]
  },
  {
   "cell_type": "markdown",
   "id": "dd1bfd90",
   "metadata": {},
   "source": [
    "##### Transformation"
   ]
  },
  {
   "cell_type": "code",
   "execution_count": 1082,
   "id": "eac9c145",
   "metadata": {},
   "outputs": [],
   "source": [
    "# Drop rows where both unit_price and quantity are missing\n",
    "df_full = df_full[~(df_full['unit_price'].isna() & df_full['quantity'].isna())]\n"
   ]
  },
  {
   "cell_type": "code",
   "execution_count": 1083,
   "id": "38e17249",
   "metadata": {},
   "outputs": [
    {
     "data": {
      "text/plain": [
       "0.07738528153496914"
      ]
     },
     "execution_count": 1083,
     "metadata": {},
     "output_type": "execute_result"
    }
   ],
   "source": [
    "# Check the skewness of the 'quantity' column to understand its distribution\n",
    "df_full['quantity'].skew()\n"
   ]
  },
  {
   "cell_type": "code",
   "execution_count": 1084,
   "id": "61e0582a",
   "metadata": {},
   "outputs": [],
   "source": [
    "# Fill missing values in 'quantity' with the mean, rounded to the nearest integer\n",
    "df_full['quantity'] = df_full['quantity'].fillna(round(df_full['quantity'].mean()))\n",
    "\n",
    "# Fill missing 'unit_price' with the median unit_price per product\n",
    "df_full['unit_price'] = df_full.groupby('product')['unit_price'].transform(lambda x: x.fillna(x.median()))\n",
    "\n",
    "# Fill customer_name with 'Unknown'\n",
    "df_full['customer_name'] = df_full['customer_name'].fillna('Unknown')\n",
    "\n",
    "# Fill region with its mode (most frequent value)\n",
    "region_mode = df_full['region'].mode()[0]\n",
    "df_full['region'] = df_full['region'].fillna(region_mode)\n",
    "\n",
    "# Drop row where 'order_date' is missing\n",
    "df_full = df_full[df_full['order_date'].notna()]\n"
   ]
  },
  {
   "cell_type": "markdown",
   "id": "51fc3385",
   "metadata": {},
   "source": [
    "##### After"
   ]
  },
  {
   "cell_type": "code",
   "execution_count": 1085,
   "id": "b0fc46fe",
   "metadata": {},
   "outputs": [
    {
     "name": "stdout",
     "output_type": "stream",
     "text": [
      "<class 'pandas.core.frame.DataFrame'>\n",
      "Index: 90 entries, 0 to 99\n",
      "Data columns (total 7 columns):\n",
      " #   Column         Non-Null Count  Dtype  \n",
      "---  ------         --------------  -----  \n",
      " 0   order_id       90 non-null     int64  \n",
      " 1   customer_name  90 non-null     object \n",
      " 2   product        90 non-null     object \n",
      " 3   quantity       90 non-null     float64\n",
      " 4   unit_price     90 non-null     float64\n",
      " 5   order_date     90 non-null     object \n",
      " 6   region         90 non-null     object \n",
      "dtypes: float64(2), int64(1), object(4)\n",
      "memory usage: 5.6+ KB\n"
     ]
    }
   ],
   "source": [
    "df_full.info()"
   ]
  },
  {
   "cell_type": "markdown",
   "id": "a1204903",
   "metadata": {},
   "source": [
    "___\n",
    "##### Transformation : Explanation\n",
    "\n",
    "- **Removed rows where both `unit_price` and `quantity` were missing**  \n",
    "  ➤ These are critical fields for sales analysis. If both are missing, the row provides no useful financial information.\n",
    "\n",
    "- **Filled missing `quantity` with its mean (rounded)**  \n",
    "  ➤ Since `quantity` had low skewness, the mean is a fair estimate. Rounding maintains the expected integer format.\n",
    "\n",
    "- **Filled missing `unit_price` using the median per product**  \n",
    "  ➤ Median is robust against outliers and ensures more accurate pricing per product category.\n",
    "\n",
    "- **Filled missing `customer_name` with `\"Unknown\"`**  \n",
    "  ➤ Helps retain the record without mislabeling or dropping potentially useful sales data.\n",
    "\n",
    "- **Filled missing `region` with the most frequent value (mode)**  \n",
    "  ➤ This ensures geographic coverage is maintained while relying on the most common, likely region.\n",
    "\n",
    "- **Dropped row with missing `order_date`**  \n",
    "  ➤ Since only one record was affected and dates are key for time-based analysis, dropping was the safest option.\n",
    "\n",
    "✅ **Why this transformation is important:**  \n",
    "These steps improve **data quality**, reduce **bias or errors**, and ensure that the dataset supports **reliable insights** in downstream analysis and visualization.\n",
    "___\n"
   ]
  },
  {
   "cell_type": "markdown",
   "id": "02145097",
   "metadata": {},
   "source": [
    "#### **2. Structural Transformation** 🛠️"
   ]
  },
  {
   "cell_type": "markdown",
   "id": "5d1e7b2c",
   "metadata": {},
   "source": [
    "##### Before"
   ]
  },
  {
   "cell_type": "code",
   "execution_count": 1086,
   "id": "9ef4fac9",
   "metadata": {},
   "outputs": [
    {
     "name": "stdout",
     "output_type": "stream",
     "text": [
      "<class 'pandas.core.frame.DataFrame'>\n",
      "Index: 90 entries, 0 to 99\n",
      "Data columns (total 7 columns):\n",
      " #   Column         Non-Null Count  Dtype  \n",
      "---  ------         --------------  -----  \n",
      " 0   order_id       90 non-null     int64  \n",
      " 1   customer_name  90 non-null     object \n",
      " 2   product        90 non-null     object \n",
      " 3   quantity       90 non-null     float64\n",
      " 4   unit_price     90 non-null     float64\n",
      " 5   order_date     90 non-null     object \n",
      " 6   region         90 non-null     object \n",
      "dtypes: float64(2), int64(1), object(4)\n",
      "memory usage: 5.6+ KB\n"
     ]
    }
   ],
   "source": [
    "df_full.info()"
   ]
  },
  {
   "cell_type": "markdown",
   "id": "10bc56a6",
   "metadata": {},
   "source": [
    "##### Transformation"
   ]
  },
  {
   "cell_type": "code",
   "execution_count": 1087,
   "id": "f56555d4",
   "metadata": {},
   "outputs": [],
   "source": [
    "# Convert 'order_id' to string if it's used as an identifier, not for calculation\n",
    "df_full['order_id'] = df_full['order_id'].astype(str)\n",
    "\n",
    "# Convert 'order_date' to datetime format for proper time-based analysis\n",
    "df_full['order_date'] = pd.to_datetime(df_full['order_date'])\n",
    "\n",
    "# Convert 'quantity' to integer type, as it represents whole items sold\n",
    "df_full['quantity'] = df_full['quantity'].astype(int)\n",
    "\n",
    "# Convert 'product' and 'region' to categorical types for memory and efficiency benefits\n",
    "df_full['product'] = df_full['product'].astype('category')\n",
    "df_full['region'] = df_full['region'].astype('category')\n"
   ]
  },
  {
   "cell_type": "markdown",
   "id": "de31eb0b",
   "metadata": {},
   "source": [
    "##### After"
   ]
  },
  {
   "cell_type": "code",
   "execution_count": 1088,
   "id": "2eac7737",
   "metadata": {},
   "outputs": [
    {
     "name": "stdout",
     "output_type": "stream",
     "text": [
      "<class 'pandas.core.frame.DataFrame'>\n",
      "Index: 90 entries, 0 to 99\n",
      "Data columns (total 7 columns):\n",
      " #   Column         Non-Null Count  Dtype         \n",
      "---  ------         --------------  -----         \n",
      " 0   order_id       90 non-null     object        \n",
      " 1   customer_name  90 non-null     object        \n",
      " 2   product        90 non-null     category      \n",
      " 3   quantity       90 non-null     int32         \n",
      " 4   unit_price     90 non-null     float64       \n",
      " 5   order_date     90 non-null     datetime64[ns]\n",
      " 6   region         90 non-null     category      \n",
      "dtypes: category(2), datetime64[ns](1), float64(1), int32(1), object(2)\n",
      "memory usage: 4.4+ KB\n"
     ]
    }
   ],
   "source": [
    "df_full.info()"
   ]
  },
  {
   "cell_type": "markdown",
   "id": "1ab1a953",
   "metadata": {},
   "source": [
    "___\n",
    "##### Transformation: Explanation\n",
    "\n",
    "-  **order_id**: Converted to string since it serves as a unique identifier, not for numeric operations.\n",
    "-  **order_date**: Converted to `datetime` format to enable time-based filtering, sorting, and analysis.\n",
    "-  **quantity**: Converted to integer type, as it represents whole items sold.\n",
    "-  **product & region**: Converted to `category` type to reduce memory usage and improve performance when grouping or filtering.\n",
    "\n",
    "These changes help maintain data integrity, improve efficiency, and prepare the data for further analysis or modeling.\n",
    "___\n"
   ]
  },
  {
   "cell_type": "markdown",
   "id": "bcb4320b",
   "metadata": {},
   "source": [
    "#### **3. ✨ Enrichment**"
   ]
  },
  {
   "cell_type": "markdown",
   "id": "d37723e9",
   "metadata": {},
   "source": [
    "##### Before"
   ]
  },
  {
   "cell_type": "code",
   "execution_count": 1089,
   "id": "e12102e6",
   "metadata": {},
   "outputs": [
    {
     "name": "stdout",
     "output_type": "stream",
     "text": [
      "['order_id', 'customer_name', 'product', 'quantity', 'unit_price', 'order_date', 'region']\n"
     ]
    }
   ],
   "source": [
    "# Print the list of column names in the DataFrame\n",
    "print(df_full.columns.tolist())\n"
   ]
  },
  {
   "cell_type": "markdown",
   "id": "b16ce76e",
   "metadata": {},
   "source": [
    "##### Transformation"
   ]
  },
  {
   "cell_type": "code",
   "execution_count": 1090,
   "id": "996f60fb",
   "metadata": {},
   "outputs": [],
   "source": [
    "# 💰 Add total_price column: total = quantity × unit_price\n",
    "df_full['total_price'] = df_full['quantity'] * df_full['unit_price']"
   ]
  },
  {
   "cell_type": "markdown",
   "id": "7c8a2250",
   "metadata": {},
   "source": [
    "##### After"
   ]
  },
  {
   "cell_type": "code",
   "execution_count": 1091,
   "id": "966349cd",
   "metadata": {},
   "outputs": [
    {
     "name": "stdout",
     "output_type": "stream",
     "text": [
      "['order_id', 'customer_name', 'product', 'quantity', 'unit_price', 'order_date', 'region', 'total_price']\n"
     ]
    }
   ],
   "source": [
    "#  Print the list of column names in the DataFrame\n",
    "print(df_full.columns.tolist())\n"
   ]
  },
  {
   "cell_type": "markdown",
   "id": "96279d6a",
   "metadata": {},
   "source": [
    "___\n",
    "##### Transformation: Explanation\n",
    "\n",
    "- 💰 **Add `total_price` column:**  \n",
    "  Calculated by multiplying `quantity` and `unit_price`.\n",
    "\n",
    "- **Why?**  \n",
    "  This enriches the dataset with a crucial metric — **total revenue per order** — which supports:\n",
    "  - Sales performance tracking\n",
    "  - Revenue-based analytics\n",
    "  - Grouped aggregations by region or product\n",
    "___\n"
   ]
  },
  {
   "cell_type": "markdown",
   "id": "4abe0c6f",
   "metadata": {},
   "source": [
    "#### **4. 🧩 Categorization**"
   ]
  },
  {
   "cell_type": "markdown",
   "id": "6bf14c90",
   "metadata": {},
   "source": [
    "##### Before"
   ]
  },
  {
   "cell_type": "code",
   "execution_count": 1092,
   "id": "168ba1bb",
   "metadata": {},
   "outputs": [
    {
     "data": {
      "application/vnd.microsoft.datawrangler.viewer.v0+json": {
       "columns": [
        {
         "name": "index",
         "rawType": "int64",
         "type": "integer"
        },
        {
         "name": "order_id",
         "rawType": "object",
         "type": "string"
        },
        {
         "name": "customer_name",
         "rawType": "object",
         "type": "string"
        },
        {
         "name": "product",
         "rawType": "category",
         "type": "unknown"
        },
        {
         "name": "quantity",
         "rawType": "int32",
         "type": "integer"
        },
        {
         "name": "unit_price",
         "rawType": "float64",
         "type": "float"
        },
        {
         "name": "order_date",
         "rawType": "datetime64[ns]",
         "type": "datetime"
        },
        {
         "name": "region",
         "rawType": "category",
         "type": "unknown"
        },
        {
         "name": "total_price",
         "rawType": "float64",
         "type": "float"
        }
       ],
       "ref": "d5490dec-80d8-401a-886c-fa0e0beaab25",
       "rows": [
        [
         "0",
         "1",
         "Diana",
         "Tablet",
         "2",
         "500.0",
         "2024-01-20 00:00:00",
         "South",
         "1000.0"
        ],
        [
         "2",
         "3",
         "Charlie",
         "Laptop",
         "2",
         "250.0",
         "2024-01-08 00:00:00",
         "South",
         "500.0"
        ],
        [
         "3",
         "4",
         "Eve",
         "Laptop",
         "2",
         "750.0",
         "2024-01-07 00:00:00",
         "West",
         "1500.0"
        ],
        [
         "4",
         "5",
         "Eve",
         "Tablet",
         "3",
         "500.0",
         "2024-03-07 00:00:00",
         "South",
         "1500.0"
        ],
        [
         "6",
         "7",
         "Charlie",
         "Monitor",
         "2",
         "750.0",
         "2024-02-02 00:00:00",
         "West",
         "1500.0"
        ]
       ],
       "shape": {
        "columns": 8,
        "rows": 5
       }
      },
      "text/html": [
       "<div>\n",
       "<style scoped>\n",
       "    .dataframe tbody tr th:only-of-type {\n",
       "        vertical-align: middle;\n",
       "    }\n",
       "\n",
       "    .dataframe tbody tr th {\n",
       "        vertical-align: top;\n",
       "    }\n",
       "\n",
       "    .dataframe thead th {\n",
       "        text-align: right;\n",
       "    }\n",
       "</style>\n",
       "<table border=\"1\" class=\"dataframe\">\n",
       "  <thead>\n",
       "    <tr style=\"text-align: right;\">\n",
       "      <th></th>\n",
       "      <th>order_id</th>\n",
       "      <th>customer_name</th>\n",
       "      <th>product</th>\n",
       "      <th>quantity</th>\n",
       "      <th>unit_price</th>\n",
       "      <th>order_date</th>\n",
       "      <th>region</th>\n",
       "      <th>total_price</th>\n",
       "    </tr>\n",
       "  </thead>\n",
       "  <tbody>\n",
       "    <tr>\n",
       "      <th>0</th>\n",
       "      <td>1</td>\n",
       "      <td>Diana</td>\n",
       "      <td>Tablet</td>\n",
       "      <td>2</td>\n",
       "      <td>500.0</td>\n",
       "      <td>2024-01-20</td>\n",
       "      <td>South</td>\n",
       "      <td>1000.0</td>\n",
       "    </tr>\n",
       "    <tr>\n",
       "      <th>2</th>\n",
       "      <td>3</td>\n",
       "      <td>Charlie</td>\n",
       "      <td>Laptop</td>\n",
       "      <td>2</td>\n",
       "      <td>250.0</td>\n",
       "      <td>2024-01-08</td>\n",
       "      <td>South</td>\n",
       "      <td>500.0</td>\n",
       "    </tr>\n",
       "    <tr>\n",
       "      <th>3</th>\n",
       "      <td>4</td>\n",
       "      <td>Eve</td>\n",
       "      <td>Laptop</td>\n",
       "      <td>2</td>\n",
       "      <td>750.0</td>\n",
       "      <td>2024-01-07</td>\n",
       "      <td>West</td>\n",
       "      <td>1500.0</td>\n",
       "    </tr>\n",
       "    <tr>\n",
       "      <th>4</th>\n",
       "      <td>5</td>\n",
       "      <td>Eve</td>\n",
       "      <td>Tablet</td>\n",
       "      <td>3</td>\n",
       "      <td>500.0</td>\n",
       "      <td>2024-03-07</td>\n",
       "      <td>South</td>\n",
       "      <td>1500.0</td>\n",
       "    </tr>\n",
       "    <tr>\n",
       "      <th>6</th>\n",
       "      <td>7</td>\n",
       "      <td>Charlie</td>\n",
       "      <td>Monitor</td>\n",
       "      <td>2</td>\n",
       "      <td>750.0</td>\n",
       "      <td>2024-02-02</td>\n",
       "      <td>West</td>\n",
       "      <td>1500.0</td>\n",
       "    </tr>\n",
       "  </tbody>\n",
       "</table>\n",
       "</div>"
      ],
      "text/plain": [
       "  order_id customer_name  product  quantity  unit_price order_date region  \\\n",
       "0        1         Diana   Tablet         2       500.0 2024-01-20  South   \n",
       "2        3       Charlie   Laptop         2       250.0 2024-01-08  South   \n",
       "3        4           Eve   Laptop         2       750.0 2024-01-07   West   \n",
       "4        5           Eve   Tablet         3       500.0 2024-03-07  South   \n",
       "6        7       Charlie  Monitor         2       750.0 2024-02-02   West   \n",
       "\n",
       "   total_price  \n",
       "0       1000.0  \n",
       "2        500.0  \n",
       "3       1500.0  \n",
       "4       1500.0  \n",
       "6       1500.0  "
      ]
     },
     "execution_count": 1092,
     "metadata": {},
     "output_type": "execute_result"
    }
   ],
   "source": [
    "df_full.head()"
   ]
  },
  {
   "cell_type": "markdown",
   "id": "00ca654d",
   "metadata": {},
   "source": [
    "##### Transformation"
   ]
  },
  {
   "cell_type": "code",
   "execution_count": 1093,
   "id": "32d407e0",
   "metadata": {},
   "outputs": [],
   "source": [
    "# 🏷️ Categorize 'unit_price' into price segments based on percentiles\n",
    "\n",
    "# Get the 25th and 75th percentiles\n",
    "q1 = df_full['unit_price'].quantile(0.25)\n",
    "q3 = df_full['unit_price'].quantile(0.75)\n",
    "\n",
    "# Define a function to classify unit prices\n",
    "def categorize_price(price):\n",
    "    if price <= q1:\n",
    "        return 'Low-cost'\n",
    "    elif price <= q3:\n",
    "        return 'Mid-range'\n",
    "    else:\n",
    "        return 'Premium'\n",
    "\n",
    "# Apply the function to create a new column\n",
    "df_full['price_category'] = df_full['unit_price'].apply(categorize_price)\n"
   ]
  },
  {
   "cell_type": "markdown",
   "id": "a1d206fd",
   "metadata": {},
   "source": [
    "##### After"
   ]
  },
  {
   "cell_type": "code",
   "execution_count": 1094,
   "id": "dd982364",
   "metadata": {},
   "outputs": [
    {
     "data": {
      "application/vnd.microsoft.datawrangler.viewer.v0+json": {
       "columns": [
        {
         "name": "index",
         "rawType": "int64",
         "type": "integer"
        },
        {
         "name": "order_id",
         "rawType": "object",
         "type": "string"
        },
        {
         "name": "customer_name",
         "rawType": "object",
         "type": "string"
        },
        {
         "name": "product",
         "rawType": "category",
         "type": "unknown"
        },
        {
         "name": "quantity",
         "rawType": "int32",
         "type": "integer"
        },
        {
         "name": "unit_price",
         "rawType": "float64",
         "type": "float"
        },
        {
         "name": "order_date",
         "rawType": "datetime64[ns]",
         "type": "datetime"
        },
        {
         "name": "region",
         "rawType": "category",
         "type": "unknown"
        },
        {
         "name": "total_price",
         "rawType": "float64",
         "type": "float"
        },
        {
         "name": "price_category",
         "rawType": "object",
         "type": "string"
        }
       ],
       "ref": "3304c7d9-f759-4167-b398-4120bca61606",
       "rows": [
        [
         "0",
         "1",
         "Diana",
         "Tablet",
         "2",
         "500.0",
         "2024-01-20 00:00:00",
         "South",
         "1000.0",
         "Mid-range"
        ],
        [
         "2",
         "3",
         "Charlie",
         "Laptop",
         "2",
         "250.0",
         "2024-01-08 00:00:00",
         "South",
         "500.0",
         "Low-cost"
        ],
        [
         "3",
         "4",
         "Eve",
         "Laptop",
         "2",
         "750.0",
         "2024-01-07 00:00:00",
         "West",
         "1500.0",
         "Premium"
        ],
        [
         "4",
         "5",
         "Eve",
         "Tablet",
         "3",
         "500.0",
         "2024-03-07 00:00:00",
         "South",
         "1500.0",
         "Mid-range"
        ],
        [
         "6",
         "7",
         "Charlie",
         "Monitor",
         "2",
         "750.0",
         "2024-02-02 00:00:00",
         "West",
         "1500.0",
         "Premium"
        ]
       ],
       "shape": {
        "columns": 9,
        "rows": 5
       }
      },
      "text/html": [
       "<div>\n",
       "<style scoped>\n",
       "    .dataframe tbody tr th:only-of-type {\n",
       "        vertical-align: middle;\n",
       "    }\n",
       "\n",
       "    .dataframe tbody tr th {\n",
       "        vertical-align: top;\n",
       "    }\n",
       "\n",
       "    .dataframe thead th {\n",
       "        text-align: right;\n",
       "    }\n",
       "</style>\n",
       "<table border=\"1\" class=\"dataframe\">\n",
       "  <thead>\n",
       "    <tr style=\"text-align: right;\">\n",
       "      <th></th>\n",
       "      <th>order_id</th>\n",
       "      <th>customer_name</th>\n",
       "      <th>product</th>\n",
       "      <th>quantity</th>\n",
       "      <th>unit_price</th>\n",
       "      <th>order_date</th>\n",
       "      <th>region</th>\n",
       "      <th>total_price</th>\n",
       "      <th>price_category</th>\n",
       "    </tr>\n",
       "  </thead>\n",
       "  <tbody>\n",
       "    <tr>\n",
       "      <th>0</th>\n",
       "      <td>1</td>\n",
       "      <td>Diana</td>\n",
       "      <td>Tablet</td>\n",
       "      <td>2</td>\n",
       "      <td>500.0</td>\n",
       "      <td>2024-01-20</td>\n",
       "      <td>South</td>\n",
       "      <td>1000.0</td>\n",
       "      <td>Mid-range</td>\n",
       "    </tr>\n",
       "    <tr>\n",
       "      <th>2</th>\n",
       "      <td>3</td>\n",
       "      <td>Charlie</td>\n",
       "      <td>Laptop</td>\n",
       "      <td>2</td>\n",
       "      <td>250.0</td>\n",
       "      <td>2024-01-08</td>\n",
       "      <td>South</td>\n",
       "      <td>500.0</td>\n",
       "      <td>Low-cost</td>\n",
       "    </tr>\n",
       "    <tr>\n",
       "      <th>3</th>\n",
       "      <td>4</td>\n",
       "      <td>Eve</td>\n",
       "      <td>Laptop</td>\n",
       "      <td>2</td>\n",
       "      <td>750.0</td>\n",
       "      <td>2024-01-07</td>\n",
       "      <td>West</td>\n",
       "      <td>1500.0</td>\n",
       "      <td>Premium</td>\n",
       "    </tr>\n",
       "    <tr>\n",
       "      <th>4</th>\n",
       "      <td>5</td>\n",
       "      <td>Eve</td>\n",
       "      <td>Tablet</td>\n",
       "      <td>3</td>\n",
       "      <td>500.0</td>\n",
       "      <td>2024-03-07</td>\n",
       "      <td>South</td>\n",
       "      <td>1500.0</td>\n",
       "      <td>Mid-range</td>\n",
       "    </tr>\n",
       "    <tr>\n",
       "      <th>6</th>\n",
       "      <td>7</td>\n",
       "      <td>Charlie</td>\n",
       "      <td>Monitor</td>\n",
       "      <td>2</td>\n",
       "      <td>750.0</td>\n",
       "      <td>2024-02-02</td>\n",
       "      <td>West</td>\n",
       "      <td>1500.0</td>\n",
       "      <td>Premium</td>\n",
       "    </tr>\n",
       "  </tbody>\n",
       "</table>\n",
       "</div>"
      ],
      "text/plain": [
       "  order_id customer_name  product  quantity  unit_price order_date region  \\\n",
       "0        1         Diana   Tablet         2       500.0 2024-01-20  South   \n",
       "2        3       Charlie   Laptop         2       250.0 2024-01-08  South   \n",
       "3        4           Eve   Laptop         2       750.0 2024-01-07   West   \n",
       "4        5           Eve   Tablet         3       500.0 2024-03-07  South   \n",
       "6        7       Charlie  Monitor         2       750.0 2024-02-02   West   \n",
       "\n",
       "   total_price price_category  \n",
       "0       1000.0      Mid-range  \n",
       "2        500.0       Low-cost  \n",
       "3       1500.0        Premium  \n",
       "4       1500.0      Mid-range  \n",
       "6       1500.0        Premium  "
      ]
     },
     "execution_count": 1094,
     "metadata": {},
     "output_type": "execute_result"
    }
   ],
   "source": [
    "df_full.head()"
   ]
  },
  {
   "cell_type": "markdown",
   "id": "56d06093",
   "metadata": {},
   "source": [
    "___\n",
    "##### Transformation: Explanation\n",
    "\n",
    "To enhance analysis and group similar items,  the `unit_price` was categorized column into three segments and added as new column `price_category` :\n",
    "\n",
    "- **Low-cost**: Prices from the minimum up to the 25th percentile  \n",
    "- **Mid-range**: Prices between the 25th and 75th percentiles  \n",
    "- **Premium**: Prices above the 75th percentile\n",
    "\n",
    "🔍 This segmentation helps in pricing analysis, customer segmentation, and product strategy.\n",
    "___\n"
   ]
  },
  {
   "cell_type": "code",
   "execution_count": 1095,
   "id": "af109069",
   "metadata": {},
   "outputs": [],
   "source": [
    "# Export the df_full DataFrame to a CSV file named ' transformed_full.csv' without including the index column\n",
    "df_full.to_csv(\" transformed_full.csv\", index=False)"
   ]
  },
  {
   "cell_type": "markdown",
   "id": "fff51ced",
   "metadata": {},
   "source": [
    "### **Incremental Data**"
   ]
  },
  {
   "cell_type": "markdown",
   "id": "7cdaae24",
   "metadata": {},
   "source": [
    "#### 🧹✨ **1. Cleaning**"
   ]
  },
  {
   "cell_type": "code",
   "execution_count": 1096,
   "id": "e2df5933",
   "metadata": {},
   "outputs": [],
   "source": [
    "# Reading the CSV file named 'raw_data.csv' into a DataFrame called df_full\n",
    "df_incremental = pd.read_csv(\"incremental_data.csv\")"
   ]
  },
  {
   "cell_type": "markdown",
   "id": "128df568",
   "metadata": {},
   "source": [
    "#### *Handling Missing Values*"
   ]
  },
  {
   "cell_type": "markdown",
   "id": "a179e290",
   "metadata": {},
   "source": [
    "##### Before"
   ]
  },
  {
   "cell_type": "code",
   "execution_count": 1097,
   "id": "183a2da0",
   "metadata": {},
   "outputs": [
    {
     "name": "stdout",
     "output_type": "stream",
     "text": [
      "<class 'pandas.core.frame.DataFrame'>\n",
      "RangeIndex: 10 entries, 0 to 9\n",
      "Data columns (total 7 columns):\n",
      " #   Column         Non-Null Count  Dtype  \n",
      "---  ------         --------------  -----  \n",
      " 0   order_id       10 non-null     int64  \n",
      " 1   customer_name  4 non-null      object \n",
      " 2   product        10 non-null     object \n",
      " 3   quantity       6 non-null      float64\n",
      " 4   unit_price     10 non-null     int64  \n",
      " 5   order_date     10 non-null     object \n",
      " 6   region         8 non-null      object \n",
      "dtypes: float64(1), int64(2), object(4)\n",
      "memory usage: 692.0+ bytes\n"
     ]
    }
   ],
   "source": [
    "# Displaying a summary of the DataFrame, including:\n",
    "# - Number of entries (rows)\n",
    "# - Column names and their data types\n",
    "# - Number of non-null (non-missing) values per column\n",
    "df_incremental.info()"
   ]
  },
  {
   "cell_type": "markdown",
   "id": "ea341f3b",
   "metadata": {},
   "source": [
    "##### Transformation"
   ]
  },
  {
   "cell_type": "code",
   "execution_count": 1098,
   "id": "67528ce6",
   "metadata": {},
   "outputs": [
    {
     "data": {
      "text/plain": [
       "0.0"
      ]
     },
     "execution_count": 1098,
     "metadata": {},
     "output_type": "execute_result"
    }
   ],
   "source": [
    "# Check the skewness of the 'quantity' column to understand its distribution\n",
    "df_incremental['quantity'].skew()\n"
   ]
  },
  {
   "cell_type": "code",
   "execution_count": 1099,
   "id": "6e2ebaa8",
   "metadata": {},
   "outputs": [],
   "source": [
    "# Fill missing values in 'quantity' with the mean, rounded to the nearest integer\n",
    "df_incremental['quantity'] =df_incremental['quantity'].fillna(round(df_incremental['quantity'].mean()))\n",
    "\n",
    "# Fill customer_name with 'Unknown'\n",
    "df_incremental['customer_name'] =df_incremental['customer_name'].fillna('Unknown')\n",
    "\n",
    "# Fill region with its mode (most frequent value)\n",
    "region_mode =df_incremental['region'].mode()[0]\n",
    "df_incremental['region'] =df_incremental['region'].fillna(region_mode)\n"
   ]
  },
  {
   "cell_type": "markdown",
   "id": "650bb53b",
   "metadata": {},
   "source": [
    "##### After"
   ]
  },
  {
   "cell_type": "code",
   "execution_count": 1100,
   "id": "102c3ddd",
   "metadata": {},
   "outputs": [
    {
     "name": "stdout",
     "output_type": "stream",
     "text": [
      "<class 'pandas.core.frame.DataFrame'>\n",
      "RangeIndex: 10 entries, 0 to 9\n",
      "Data columns (total 7 columns):\n",
      " #   Column         Non-Null Count  Dtype  \n",
      "---  ------         --------------  -----  \n",
      " 0   order_id       10 non-null     int64  \n",
      " 1   customer_name  10 non-null     object \n",
      " 2   product        10 non-null     object \n",
      " 3   quantity       10 non-null     float64\n",
      " 4   unit_price     10 non-null     int64  \n",
      " 5   order_date     10 non-null     object \n",
      " 6   region         10 non-null     object \n",
      "dtypes: float64(1), int64(2), object(4)\n",
      "memory usage: 692.0+ bytes\n"
     ]
    }
   ],
   "source": [
    "df_incremental.info()"
   ]
  },
  {
   "cell_type": "markdown",
   "id": "e1a0ca00",
   "metadata": {},
   "source": [
    "___\n",
    "##### Transformation : Explanation\n",
    "\n",
    "- **Filled missing `quantity` with its mean (rounded)**  \n",
    "  ➤ Since `quantity` had zero skewness, the mean is a fair estimate. Rounding maintains the expected integer format.\n",
    "\n",
    "- **Filled missing `customer_name` with `\"Unknown\"`**  \n",
    "  ➤ Helps retain the record without mislabeling or dropping potentially useful sales data.\n",
    "\n",
    "- **Filled missing `region` with the most frequent value (mode)**  \n",
    "  ➤ This ensures geographic coverage is maintained while relying on the most common, likely region.\n",
    "\n",
    "✅ **Why this transformation is important:**  \n",
    "These steps improve **data quality**, reduce **bias or errors**, and ensure that the dataset supports **reliable insights** in downstream analysis and visualization.\n",
    "___\n"
   ]
  },
  {
   "cell_type": "markdown",
   "id": "749c5c93",
   "metadata": {},
   "source": [
    "#### **2. Structural Transformation** 🛠️"
   ]
  },
  {
   "cell_type": "markdown",
   "id": "338f5fa4",
   "metadata": {},
   "source": [
    "##### Before"
   ]
  },
  {
   "cell_type": "code",
   "execution_count": 1101,
   "id": "bf01a81e",
   "metadata": {},
   "outputs": [
    {
     "name": "stdout",
     "output_type": "stream",
     "text": [
      "<class 'pandas.core.frame.DataFrame'>\n",
      "RangeIndex: 10 entries, 0 to 9\n",
      "Data columns (total 7 columns):\n",
      " #   Column         Non-Null Count  Dtype  \n",
      "---  ------         --------------  -----  \n",
      " 0   order_id       10 non-null     int64  \n",
      " 1   customer_name  10 non-null     object \n",
      " 2   product        10 non-null     object \n",
      " 3   quantity       10 non-null     float64\n",
      " 4   unit_price     10 non-null     int64  \n",
      " 5   order_date     10 non-null     object \n",
      " 6   region         10 non-null     object \n",
      "dtypes: float64(1), int64(2), object(4)\n",
      "memory usage: 692.0+ bytes\n"
     ]
    }
   ],
   "source": [
    "df_incremental.info()"
   ]
  },
  {
   "cell_type": "markdown",
   "id": "49a8cebb",
   "metadata": {},
   "source": [
    "##### Transformation"
   ]
  },
  {
   "cell_type": "code",
   "execution_count": 1102,
   "id": "5cb45643",
   "metadata": {},
   "outputs": [],
   "source": [
    "# Convert 'order_id' to string if it's used as an identifier, not for calculation\n",
    "df_incremental['order_id'] = df_incremental['order_id'].astype(str)\n",
    "\n",
    "# Convert 'order_date' to datetime format for proper time-based analysis\n",
    "df_incremental['order_date'] = pd.to_datetime(df_incremental['order_date'])\n",
    "\n",
    "# Convert 'quantity' to integer type, as it represents whole items sold\n",
    "df_incremental['quantity'] = df_incremental['quantity'].astype(int)\n",
    "\n",
    "# Convert 'quantity' to integer type, as it represents whole items sold\n",
    "df_incremental['unit_price'] = df_incremental['unit_price'].astype(float)\n",
    "\n",
    "# Convert 'product' and 'region' to categorical types for memory and efficiency benefits\n",
    "df_incremental['product'] = df_incremental['product'].astype('category')\n",
    "df_incremental['region'] = df_incremental['region'].astype('category')"
   ]
  },
  {
   "cell_type": "markdown",
   "id": "9a2f0a84",
   "metadata": {},
   "source": [
    "##### After"
   ]
  },
  {
   "cell_type": "code",
   "execution_count": 1103,
   "id": "861ce861",
   "metadata": {},
   "outputs": [
    {
     "name": "stdout",
     "output_type": "stream",
     "text": [
      "<class 'pandas.core.frame.DataFrame'>\n",
      "RangeIndex: 10 entries, 0 to 9\n",
      "Data columns (total 7 columns):\n",
      " #   Column         Non-Null Count  Dtype         \n",
      "---  ------         --------------  -----         \n",
      " 0   order_id       10 non-null     object        \n",
      " 1   customer_name  10 non-null     object        \n",
      " 2   product        10 non-null     category      \n",
      " 3   quantity       10 non-null     int32         \n",
      " 4   unit_price     10 non-null     float64       \n",
      " 5   order_date     10 non-null     datetime64[ns]\n",
      " 6   region         10 non-null     category      \n",
      "dtypes: category(2), datetime64[ns](1), float64(1), int32(1), object(2)\n",
      "memory usage: 768.0+ bytes\n"
     ]
    }
   ],
   "source": [
    "df_incremental.info()"
   ]
  },
  {
   "cell_type": "markdown",
   "id": "5446060b",
   "metadata": {},
   "source": [
    "___\n",
    "##### Transformation: Explanation\n",
    "\n",
    "-  **order_id**: Converted to string since it serves as a unique identifier, not for numeric operations.\n",
    "-  **order_date**: Converted to `datetime` format to enable time-based filtering, sorting, and analysis.\n",
    "-  **quantity**: Converted to integer type, as it represents whole items sold.\n",
    "-  **product & region**: Converted to `category` type to reduce memory usage and improve performance when grouping or filtering.\n",
    "-  **price**: Converted to float type to accommodate decimal prices.\n",
    "\n",
    "These changes help maintain data integrity, improve efficiency, and prepare the data for further analysis or modeling.\n",
    "___\n"
   ]
  },
  {
   "cell_type": "markdown",
   "id": "a387f04c",
   "metadata": {},
   "source": [
    "#### **3. ✨ Enrichment**"
   ]
  },
  {
   "cell_type": "markdown",
   "id": "272375f3",
   "metadata": {},
   "source": [
    "##### Before"
   ]
  },
  {
   "cell_type": "code",
   "execution_count": 1104,
   "id": "e9a8922b",
   "metadata": {},
   "outputs": [
    {
     "name": "stdout",
     "output_type": "stream",
     "text": [
      "['order_id', 'customer_name', 'product', 'quantity', 'unit_price', 'order_date', 'region']\n"
     ]
    }
   ],
   "source": [
    "# Print the list of column names in the DataFrame\n",
    "print(df_incremental.columns.tolist())"
   ]
  },
  {
   "cell_type": "markdown",
   "id": "9a8ff557",
   "metadata": {},
   "source": [
    "##### Transformation"
   ]
  },
  {
   "cell_type": "code",
   "execution_count": 1105,
   "id": "1d3a4bce",
   "metadata": {},
   "outputs": [],
   "source": [
    "# 💰 Add total_price column: total = quantity × unit_price\n",
    "df_incremental['total_price'] = df_incremental['quantity'] * df_incremental['unit_price']"
   ]
  },
  {
   "cell_type": "markdown",
   "id": "91a70336",
   "metadata": {},
   "source": [
    "##### After"
   ]
  },
  {
   "cell_type": "code",
   "execution_count": 1106,
   "id": "2fd6b8ca",
   "metadata": {},
   "outputs": [
    {
     "name": "stdout",
     "output_type": "stream",
     "text": [
      "['order_id', 'customer_name', 'product', 'quantity', 'unit_price', 'order_date', 'region', 'total_price']\n"
     ]
    }
   ],
   "source": [
    "#  Print the list of column names in the DataFrame\n",
    "print(df_incremental.columns.tolist())"
   ]
  },
  {
   "cell_type": "markdown",
   "id": "e529bf2c",
   "metadata": {},
   "source": [
    "___\n",
    "##### Transformation: Explanation\n",
    "\n",
    "- 💰 **Add `total_price` column:**  \n",
    "  Calculated by multiplying `quantity` and `unit_price`.\n",
    "\n",
    "- **Why?**  \n",
    "  This enriches the dataset with a crucial metric — **total revenue per order** — which supports:\n",
    "  - Sales performance tracking\n",
    "  - Revenue-based analytics\n",
    "  - Grouped aggregations by region or product\n",
    "___\n"
   ]
  },
  {
   "cell_type": "markdown",
   "id": "1474238d",
   "metadata": {},
   "source": [
    "#### **4. 🧩 Categorization**"
   ]
  },
  {
   "cell_type": "markdown",
   "id": "03de9ffd",
   "metadata": {},
   "source": [
    "##### Before"
   ]
  },
  {
   "cell_type": "code",
   "execution_count": 1107,
   "id": "20905341",
   "metadata": {},
   "outputs": [
    {
     "data": {
      "application/vnd.microsoft.datawrangler.viewer.v0+json": {
       "columns": [
        {
         "name": "index",
         "rawType": "int64",
         "type": "integer"
        },
        {
         "name": "order_id",
         "rawType": "object",
         "type": "string"
        },
        {
         "name": "customer_name",
         "rawType": "object",
         "type": "string"
        },
        {
         "name": "product",
         "rawType": "category",
         "type": "unknown"
        },
        {
         "name": "quantity",
         "rawType": "int32",
         "type": "integer"
        },
        {
         "name": "unit_price",
         "rawType": "float64",
         "type": "float"
        },
        {
         "name": "order_date",
         "rawType": "datetime64[ns]",
         "type": "datetime"
        },
        {
         "name": "region",
         "rawType": "category",
         "type": "unknown"
        },
        {
         "name": "total_price",
         "rawType": "float64",
         "type": "float"
        }
       ],
       "ref": "c1ed7dd1-e969-4e8e-a667-4cdd0fb2d8ad",
       "rows": [
        [
         "0",
         "101",
         "Alice",
         "Laptop",
         "2",
         "900.0",
         "2024-05-09 00:00:00",
         "Central",
         "1800.0"
        ],
        [
         "1",
         "102",
         "Unknown",
         "Laptop",
         "1",
         "300.0",
         "2024-05-07 00:00:00",
         "Central",
         "300.0"
        ],
        [
         "2",
         "103",
         "Unknown",
         "Laptop",
         "1",
         "600.0",
         "2024-05-04 00:00:00",
         "Central",
         "600.0"
        ],
        [
         "3",
         "104",
         "Unknown",
         "Tablet",
         "2",
         "300.0",
         "2024-05-26 00:00:00",
         "Central",
         "600.0"
        ],
        [
         "4",
         "105",
         "Heidi",
         "Tablet",
         "2",
         "600.0",
         "2024-05-21 00:00:00",
         "North",
         "1200.0"
        ]
       ],
       "shape": {
        "columns": 8,
        "rows": 5
       }
      },
      "text/html": [
       "<div>\n",
       "<style scoped>\n",
       "    .dataframe tbody tr th:only-of-type {\n",
       "        vertical-align: middle;\n",
       "    }\n",
       "\n",
       "    .dataframe tbody tr th {\n",
       "        vertical-align: top;\n",
       "    }\n",
       "\n",
       "    .dataframe thead th {\n",
       "        text-align: right;\n",
       "    }\n",
       "</style>\n",
       "<table border=\"1\" class=\"dataframe\">\n",
       "  <thead>\n",
       "    <tr style=\"text-align: right;\">\n",
       "      <th></th>\n",
       "      <th>order_id</th>\n",
       "      <th>customer_name</th>\n",
       "      <th>product</th>\n",
       "      <th>quantity</th>\n",
       "      <th>unit_price</th>\n",
       "      <th>order_date</th>\n",
       "      <th>region</th>\n",
       "      <th>total_price</th>\n",
       "    </tr>\n",
       "  </thead>\n",
       "  <tbody>\n",
       "    <tr>\n",
       "      <th>0</th>\n",
       "      <td>101</td>\n",
       "      <td>Alice</td>\n",
       "      <td>Laptop</td>\n",
       "      <td>2</td>\n",
       "      <td>900.0</td>\n",
       "      <td>2024-05-09</td>\n",
       "      <td>Central</td>\n",
       "      <td>1800.0</td>\n",
       "    </tr>\n",
       "    <tr>\n",
       "      <th>1</th>\n",
       "      <td>102</td>\n",
       "      <td>Unknown</td>\n",
       "      <td>Laptop</td>\n",
       "      <td>1</td>\n",
       "      <td>300.0</td>\n",
       "      <td>2024-05-07</td>\n",
       "      <td>Central</td>\n",
       "      <td>300.0</td>\n",
       "    </tr>\n",
       "    <tr>\n",
       "      <th>2</th>\n",
       "      <td>103</td>\n",
       "      <td>Unknown</td>\n",
       "      <td>Laptop</td>\n",
       "      <td>1</td>\n",
       "      <td>600.0</td>\n",
       "      <td>2024-05-04</td>\n",
       "      <td>Central</td>\n",
       "      <td>600.0</td>\n",
       "    </tr>\n",
       "    <tr>\n",
       "      <th>3</th>\n",
       "      <td>104</td>\n",
       "      <td>Unknown</td>\n",
       "      <td>Tablet</td>\n",
       "      <td>2</td>\n",
       "      <td>300.0</td>\n",
       "      <td>2024-05-26</td>\n",
       "      <td>Central</td>\n",
       "      <td>600.0</td>\n",
       "    </tr>\n",
       "    <tr>\n",
       "      <th>4</th>\n",
       "      <td>105</td>\n",
       "      <td>Heidi</td>\n",
       "      <td>Tablet</td>\n",
       "      <td>2</td>\n",
       "      <td>600.0</td>\n",
       "      <td>2024-05-21</td>\n",
       "      <td>North</td>\n",
       "      <td>1200.0</td>\n",
       "    </tr>\n",
       "  </tbody>\n",
       "</table>\n",
       "</div>"
      ],
      "text/plain": [
       "  order_id customer_name product  quantity  unit_price order_date   region  \\\n",
       "0      101         Alice  Laptop         2       900.0 2024-05-09  Central   \n",
       "1      102       Unknown  Laptop         1       300.0 2024-05-07  Central   \n",
       "2      103       Unknown  Laptop         1       600.0 2024-05-04  Central   \n",
       "3      104       Unknown  Tablet         2       300.0 2024-05-26  Central   \n",
       "4      105         Heidi  Tablet         2       600.0 2024-05-21    North   \n",
       "\n",
       "   total_price  \n",
       "0       1800.0  \n",
       "1        300.0  \n",
       "2        600.0  \n",
       "3        600.0  \n",
       "4       1200.0  "
      ]
     },
     "execution_count": 1107,
     "metadata": {},
     "output_type": "execute_result"
    }
   ],
   "source": [
    "df_incremental.head()"
   ]
  },
  {
   "cell_type": "markdown",
   "id": "3c6bbfc7",
   "metadata": {},
   "source": [
    "##### Transformation"
   ]
  },
  {
   "cell_type": "code",
   "execution_count": 1108,
   "id": "08f4fc97",
   "metadata": {},
   "outputs": [],
   "source": [
    "# 🏷️ Categorize 'unit_price' into price segments based on percentiles\n",
    "\n",
    "# Get the 25th and 75th percentiles\n",
    "q1 = df_incremental['unit_price'].quantile(0.25)\n",
    "q3 = df_incremental['unit_price'].quantile(0.75)\n",
    "\n",
    "# Define a function to classify unit prices\n",
    "def categorize_price(price):\n",
    "    if price <= q1:\n",
    "        return 'Low-cost'\n",
    "    elif price <= q3:\n",
    "        return 'Mid-range'\n",
    "    else:\n",
    "        return 'Premium'\n",
    "\n",
    "# Apply the function to create a new column\n",
    "df_incremental['price_category'] = df_incremental['unit_price'].apply(categorize_price)\n"
   ]
  },
  {
   "cell_type": "markdown",
   "id": "9009e357",
   "metadata": {},
   "source": [
    "##### After"
   ]
  },
  {
   "cell_type": "code",
   "execution_count": 1109,
   "id": "d4cb5922",
   "metadata": {},
   "outputs": [
    {
     "data": {
      "application/vnd.microsoft.datawrangler.viewer.v0+json": {
       "columns": [
        {
         "name": "index",
         "rawType": "int64",
         "type": "integer"
        },
        {
         "name": "order_id",
         "rawType": "object",
         "type": "string"
        },
        {
         "name": "customer_name",
         "rawType": "object",
         "type": "string"
        },
        {
         "name": "product",
         "rawType": "category",
         "type": "unknown"
        },
        {
         "name": "quantity",
         "rawType": "int32",
         "type": "integer"
        },
        {
         "name": "unit_price",
         "rawType": "float64",
         "type": "float"
        },
        {
         "name": "order_date",
         "rawType": "datetime64[ns]",
         "type": "datetime"
        },
        {
         "name": "region",
         "rawType": "category",
         "type": "unknown"
        },
        {
         "name": "total_price",
         "rawType": "float64",
         "type": "float"
        },
        {
         "name": "price_category",
         "rawType": "object",
         "type": "string"
        }
       ],
       "ref": "4c0fc6c3-cd63-4d39-bcf2-534942392a28",
       "rows": [
        [
         "0",
         "101",
         "Alice",
         "Laptop",
         "2",
         "900.0",
         "2024-05-09 00:00:00",
         "Central",
         "1800.0",
         "Premium"
        ],
        [
         "1",
         "102",
         "Unknown",
         "Laptop",
         "1",
         "300.0",
         "2024-05-07 00:00:00",
         "Central",
         "300.0",
         "Low-cost"
        ],
        [
         "2",
         "103",
         "Unknown",
         "Laptop",
         "1",
         "600.0",
         "2024-05-04 00:00:00",
         "Central",
         "600.0",
         "Low-cost"
        ],
        [
         "3",
         "104",
         "Unknown",
         "Tablet",
         "2",
         "300.0",
         "2024-05-26 00:00:00",
         "Central",
         "600.0",
         "Low-cost"
        ],
        [
         "4",
         "105",
         "Heidi",
         "Tablet",
         "2",
         "600.0",
         "2024-05-21 00:00:00",
         "North",
         "1200.0",
         "Low-cost"
        ]
       ],
       "shape": {
        "columns": 9,
        "rows": 5
       }
      },
      "text/html": [
       "<div>\n",
       "<style scoped>\n",
       "    .dataframe tbody tr th:only-of-type {\n",
       "        vertical-align: middle;\n",
       "    }\n",
       "\n",
       "    .dataframe tbody tr th {\n",
       "        vertical-align: top;\n",
       "    }\n",
       "\n",
       "    .dataframe thead th {\n",
       "        text-align: right;\n",
       "    }\n",
       "</style>\n",
       "<table border=\"1\" class=\"dataframe\">\n",
       "  <thead>\n",
       "    <tr style=\"text-align: right;\">\n",
       "      <th></th>\n",
       "      <th>order_id</th>\n",
       "      <th>customer_name</th>\n",
       "      <th>product</th>\n",
       "      <th>quantity</th>\n",
       "      <th>unit_price</th>\n",
       "      <th>order_date</th>\n",
       "      <th>region</th>\n",
       "      <th>total_price</th>\n",
       "      <th>price_category</th>\n",
       "    </tr>\n",
       "  </thead>\n",
       "  <tbody>\n",
       "    <tr>\n",
       "      <th>0</th>\n",
       "      <td>101</td>\n",
       "      <td>Alice</td>\n",
       "      <td>Laptop</td>\n",
       "      <td>2</td>\n",
       "      <td>900.0</td>\n",
       "      <td>2024-05-09</td>\n",
       "      <td>Central</td>\n",
       "      <td>1800.0</td>\n",
       "      <td>Premium</td>\n",
       "    </tr>\n",
       "    <tr>\n",
       "      <th>1</th>\n",
       "      <td>102</td>\n",
       "      <td>Unknown</td>\n",
       "      <td>Laptop</td>\n",
       "      <td>1</td>\n",
       "      <td>300.0</td>\n",
       "      <td>2024-05-07</td>\n",
       "      <td>Central</td>\n",
       "      <td>300.0</td>\n",
       "      <td>Low-cost</td>\n",
       "    </tr>\n",
       "    <tr>\n",
       "      <th>2</th>\n",
       "      <td>103</td>\n",
       "      <td>Unknown</td>\n",
       "      <td>Laptop</td>\n",
       "      <td>1</td>\n",
       "      <td>600.0</td>\n",
       "      <td>2024-05-04</td>\n",
       "      <td>Central</td>\n",
       "      <td>600.0</td>\n",
       "      <td>Low-cost</td>\n",
       "    </tr>\n",
       "    <tr>\n",
       "      <th>3</th>\n",
       "      <td>104</td>\n",
       "      <td>Unknown</td>\n",
       "      <td>Tablet</td>\n",
       "      <td>2</td>\n",
       "      <td>300.0</td>\n",
       "      <td>2024-05-26</td>\n",
       "      <td>Central</td>\n",
       "      <td>600.0</td>\n",
       "      <td>Low-cost</td>\n",
       "    </tr>\n",
       "    <tr>\n",
       "      <th>4</th>\n",
       "      <td>105</td>\n",
       "      <td>Heidi</td>\n",
       "      <td>Tablet</td>\n",
       "      <td>2</td>\n",
       "      <td>600.0</td>\n",
       "      <td>2024-05-21</td>\n",
       "      <td>North</td>\n",
       "      <td>1200.0</td>\n",
       "      <td>Low-cost</td>\n",
       "    </tr>\n",
       "  </tbody>\n",
       "</table>\n",
       "</div>"
      ],
      "text/plain": [
       "  order_id customer_name product  quantity  unit_price order_date   region  \\\n",
       "0      101         Alice  Laptop         2       900.0 2024-05-09  Central   \n",
       "1      102       Unknown  Laptop         1       300.0 2024-05-07  Central   \n",
       "2      103       Unknown  Laptop         1       600.0 2024-05-04  Central   \n",
       "3      104       Unknown  Tablet         2       300.0 2024-05-26  Central   \n",
       "4      105         Heidi  Tablet         2       600.0 2024-05-21    North   \n",
       "\n",
       "   total_price price_category  \n",
       "0       1800.0        Premium  \n",
       "1        300.0       Low-cost  \n",
       "2        600.0       Low-cost  \n",
       "3        600.0       Low-cost  \n",
       "4       1200.0       Low-cost  "
      ]
     },
     "execution_count": 1109,
     "metadata": {},
     "output_type": "execute_result"
    }
   ],
   "source": [
    "df_incremental.head()"
   ]
  },
  {
   "cell_type": "code",
   "execution_count": 1110,
   "id": "8367fb41",
   "metadata": {},
   "outputs": [],
   "source": [
    "# Export the df_full DataFrame to a CSV file named ' transformed_full.csv' without including the index column\n",
    "df_incremental.to_csv(\" transformed_incremental.csv\", index=False)"
   ]
  },
  {
   "cell_type": "markdown",
   "id": "219f97c7",
   "metadata": {},
   "source": [
    "___\n",
    "##### Transformation: Explanation\n",
    "\n",
    "To enhance analysis and group similar items,  the `unit_price` was categorized column into three segments and added as new column `price_category` :\n",
    "\n",
    "- **Low-cost**: Prices from the minimum up to the 25th percentile  \n",
    "- **Mid-range**: Prices between the 25th and 75th percentiles  \n",
    "- **Premium**: Prices above the 75th percentile\n",
    "\n",
    "🔍 This segmentation helps in pricing analysis, customer segmentation, and product strategy.\n",
    "___\n"
   ]
  }
 ],
 "metadata": {
  "kernelspec": {
   "display_name": "Python 3",
   "language": "python",
   "name": "python3"
  },
  "language_info": {
   "codemirror_mode": {
    "name": "ipython",
    "version": 3
   },
   "file_extension": ".py",
   "mimetype": "text/x-python",
   "name": "python",
   "nbconvert_exporter": "python",
   "pygments_lexer": "ipython3",
   "version": "3.12.10"
  }
 },
 "nbformat": 4,
 "nbformat_minor": 5
}

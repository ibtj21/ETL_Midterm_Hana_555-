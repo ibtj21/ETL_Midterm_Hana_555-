{
 "cells": [
  {
   "cell_type": "markdown",
   "id": "5e0d78ac",
   "metadata": {},
   "source": [
    "## **Structured Extraction of Retail Transaction Records**"
   ]
  },
  {
   "cell_type": "markdown",
   "id": "c7fffde7",
   "metadata": {},
   "source": [
    "## **Full_Data**"
   ]
  },
  {
   "cell_type": "code",
   "execution_count": 220,
   "id": "c566434c",
   "metadata": {},
   "outputs": [],
   "source": [
    "# Importing the pandas library and giving it an alias 'pd' for data manipulation and analysis\n",
    "import pandas as pd"
   ]
  },
  {
   "cell_type": "code",
   "execution_count": 221,
   "id": "1332566d",
   "metadata": {},
   "outputs": [
    {
     "data": {
      "application/vnd.microsoft.datawrangler.viewer.v0+json": {
       "columns": [
        {
         "name": "index",
         "rawType": "int64",
         "type": "integer"
        },
        {
         "name": "order_id",
         "rawType": "int64",
         "type": "integer"
        },
        {
         "name": "customer_name",
         "rawType": "object",
         "type": "string"
        },
        {
         "name": "product",
         "rawType": "object",
         "type": "string"
        },
        {
         "name": "quantity",
         "rawType": "float64",
         "type": "float"
        },
        {
         "name": "unit_price",
         "rawType": "float64",
         "type": "float"
        },
        {
         "name": "order_date",
         "rawType": "object",
         "type": "string"
        },
        {
         "name": "region",
         "rawType": "object",
         "type": "unknown"
        }
       ],
       "ref": "87d1a9ea-83fc-40f7-a454-3d6f3d2c1abd",
       "rows": [
        [
         "0",
         "1",
         "Diana",
         "Tablet",
         null,
         "500.0",
         "1/20/2024",
         "South"
        ],
        [
         "1",
         "2",
         "Eve",
         "Laptop",
         null,
         null,
         "4/29/2024",
         "North"
        ],
        [
         "2",
         "3",
         "Charlie",
         "Laptop",
         "2.0",
         "250.0",
         "1/8/2024",
         null
        ],
        [
         "3",
         "4",
         "Eve",
         "Laptop",
         "2.0",
         "750.0",
         "1/7/2024",
         "West"
        ],
        [
         "4",
         "5",
         "Eve",
         "Tablet",
         "3.0",
         null,
         "3/7/2024",
         "South"
        ]
       ],
       "shape": {
        "columns": 7,
        "rows": 5
       }
      },
      "text/html": [
       "<div>\n",
       "<style scoped>\n",
       "    .dataframe tbody tr th:only-of-type {\n",
       "        vertical-align: middle;\n",
       "    }\n",
       "\n",
       "    .dataframe tbody tr th {\n",
       "        vertical-align: top;\n",
       "    }\n",
       "\n",
       "    .dataframe thead th {\n",
       "        text-align: right;\n",
       "    }\n",
       "</style>\n",
       "<table border=\"1\" class=\"dataframe\">\n",
       "  <thead>\n",
       "    <tr style=\"text-align: right;\">\n",
       "      <th></th>\n",
       "      <th>order_id</th>\n",
       "      <th>customer_name</th>\n",
       "      <th>product</th>\n",
       "      <th>quantity</th>\n",
       "      <th>unit_price</th>\n",
       "      <th>order_date</th>\n",
       "      <th>region</th>\n",
       "    </tr>\n",
       "  </thead>\n",
       "  <tbody>\n",
       "    <tr>\n",
       "      <th>0</th>\n",
       "      <td>1</td>\n",
       "      <td>Diana</td>\n",
       "      <td>Tablet</td>\n",
       "      <td>NaN</td>\n",
       "      <td>500.0</td>\n",
       "      <td>1/20/2024</td>\n",
       "      <td>South</td>\n",
       "    </tr>\n",
       "    <tr>\n",
       "      <th>1</th>\n",
       "      <td>2</td>\n",
       "      <td>Eve</td>\n",
       "      <td>Laptop</td>\n",
       "      <td>NaN</td>\n",
       "      <td>NaN</td>\n",
       "      <td>4/29/2024</td>\n",
       "      <td>North</td>\n",
       "    </tr>\n",
       "    <tr>\n",
       "      <th>2</th>\n",
       "      <td>3</td>\n",
       "      <td>Charlie</td>\n",
       "      <td>Laptop</td>\n",
       "      <td>2.0</td>\n",
       "      <td>250.0</td>\n",
       "      <td>1/8/2024</td>\n",
       "      <td>NaN</td>\n",
       "    </tr>\n",
       "    <tr>\n",
       "      <th>3</th>\n",
       "      <td>4</td>\n",
       "      <td>Eve</td>\n",
       "      <td>Laptop</td>\n",
       "      <td>2.0</td>\n",
       "      <td>750.0</td>\n",
       "      <td>1/7/2024</td>\n",
       "      <td>West</td>\n",
       "    </tr>\n",
       "    <tr>\n",
       "      <th>4</th>\n",
       "      <td>5</td>\n",
       "      <td>Eve</td>\n",
       "      <td>Tablet</td>\n",
       "      <td>3.0</td>\n",
       "      <td>NaN</td>\n",
       "      <td>3/7/2024</td>\n",
       "      <td>South</td>\n",
       "    </tr>\n",
       "  </tbody>\n",
       "</table>\n",
       "</div>"
      ],
      "text/plain": [
       "   order_id customer_name product  quantity  unit_price order_date region\n",
       "0         1         Diana  Tablet       NaN       500.0  1/20/2024  South\n",
       "1         2           Eve  Laptop       NaN         NaN  4/29/2024  North\n",
       "2         3       Charlie  Laptop       2.0       250.0   1/8/2024    NaN\n",
       "3         4           Eve  Laptop       2.0       750.0   1/7/2024   West\n",
       "4         5           Eve  Tablet       3.0         NaN   3/7/2024  South"
      ]
     },
     "execution_count": 221,
     "metadata": {},
     "output_type": "execute_result"
    }
   ],
   "source": [
    "# Reading the CSV file named 'raw_data.csv' into a DataFrame called df_full\n",
    "df_full = pd.read_csv(\"raw_data.csv\")\n",
    "\n",
    "# Displaying the first 5 rows of the DataFrame to quickly inspect the data\n",
    "df_full.head()"
   ]
  },
  {
   "cell_type": "code",
   "execution_count": 222,
   "id": "c46b247b",
   "metadata": {},
   "outputs": [
    {
     "name": "stdout",
     "output_type": "stream",
     "text": [
      "<class 'pandas.core.frame.DataFrame'>\n",
      "RangeIndex: 100 entries, 0 to 99\n",
      "Data columns (total 7 columns):\n",
      " #   Column         Non-Null Count  Dtype  \n",
      "---  ------         --------------  -----  \n",
      " 0   order_id       100 non-null    int64  \n",
      " 1   customer_name  99 non-null     object \n",
      " 2   product        100 non-null    object \n",
      " 3   quantity       74 non-null     float64\n",
      " 4   unit_price     65 non-null     float64\n",
      " 5   order_date     99 non-null     object \n",
      " 6   region         75 non-null     object \n",
      "dtypes: float64(2), int64(1), object(4)\n",
      "memory usage: 5.6+ KB\n"
     ]
    }
   ],
   "source": [
    "# Displaying a summary of the DataFrame, including:\n",
    "# - Number of entries (rows)\n",
    "# - Column names and their data types\n",
    "# - Number of non-null (non-missing) values per column\n",
    "df_full.info()"
   ]
  },
  {
   "cell_type": "markdown",
   "id": "4e3da247",
   "metadata": {},
   "source": [
    "### 📌 Observation: Missing Values\n",
    "\n",
    "The dataset contains missing values in several key columns:\n",
    "\n",
    "- **customer_name** has 1 missing entry (99 out of 100).\n",
    "- **quantity** is missing in 26 rows (only 74 non-null).\n",
    "- **unit_price** is missing in 35 rows (only 65 non-null).\n",
    "- **order_date** has 1 missing entry.\n",
    "- **region** is missing in 25 rows.\n"
   ]
  },
  {
   "cell_type": "code",
   "execution_count": 223,
   "id": "289bb97c",
   "metadata": {},
   "outputs": [
    {
     "data": {
      "text/plain": [
       "1"
      ]
     },
     "execution_count": 223,
     "metadata": {},
     "output_type": "execute_result"
    }
   ],
   "source": [
    "# Check for duplicate rows\n",
    "df_full.duplicated().sum()"
   ]
  },
  {
   "cell_type": "code",
   "execution_count": 224,
   "id": "8ade5b44",
   "metadata": {},
   "outputs": [
    {
     "data": {
      "application/vnd.microsoft.datawrangler.viewer.v0+json": {
       "columns": [
        {
         "name": "index",
         "rawType": "int64",
         "type": "integer"
        },
        {
         "name": "order_id",
         "rawType": "int64",
         "type": "integer"
        },
        {
         "name": "customer_name",
         "rawType": "object",
         "type": "string"
        },
        {
         "name": "product",
         "rawType": "object",
         "type": "string"
        },
        {
         "name": "quantity",
         "rawType": "float64",
         "type": "float"
        },
        {
         "name": "unit_price",
         "rawType": "float64",
         "type": "float"
        },
        {
         "name": "order_date",
         "rawType": "object",
         "type": "string"
        },
        {
         "name": "region",
         "rawType": "object",
         "type": "string"
        }
       ],
       "ref": "b14005f4-744e-4d7f-8d9a-43cf0b10fdb2",
       "rows": [
        [
         "3",
         "4",
         "Eve",
         "Laptop",
         "2.0",
         "750.0",
         "1/7/2024",
         "West"
        ],
        [
         "5",
         "4",
         "Eve",
         "Laptop",
         "2.0",
         "750.0",
         "1/7/2024",
         "West"
        ]
       ],
       "shape": {
        "columns": 7,
        "rows": 2
       }
      },
      "text/html": [
       "<div>\n",
       "<style scoped>\n",
       "    .dataframe tbody tr th:only-of-type {\n",
       "        vertical-align: middle;\n",
       "    }\n",
       "\n",
       "    .dataframe tbody tr th {\n",
       "        vertical-align: top;\n",
       "    }\n",
       "\n",
       "    .dataframe thead th {\n",
       "        text-align: right;\n",
       "    }\n",
       "</style>\n",
       "<table border=\"1\" class=\"dataframe\">\n",
       "  <thead>\n",
       "    <tr style=\"text-align: right;\">\n",
       "      <th></th>\n",
       "      <th>order_id</th>\n",
       "      <th>customer_name</th>\n",
       "      <th>product</th>\n",
       "      <th>quantity</th>\n",
       "      <th>unit_price</th>\n",
       "      <th>order_date</th>\n",
       "      <th>region</th>\n",
       "    </tr>\n",
       "  </thead>\n",
       "  <tbody>\n",
       "    <tr>\n",
       "      <th>3</th>\n",
       "      <td>4</td>\n",
       "      <td>Eve</td>\n",
       "      <td>Laptop</td>\n",
       "      <td>2.0</td>\n",
       "      <td>750.0</td>\n",
       "      <td>1/7/2024</td>\n",
       "      <td>West</td>\n",
       "    </tr>\n",
       "    <tr>\n",
       "      <th>5</th>\n",
       "      <td>4</td>\n",
       "      <td>Eve</td>\n",
       "      <td>Laptop</td>\n",
       "      <td>2.0</td>\n",
       "      <td>750.0</td>\n",
       "      <td>1/7/2024</td>\n",
       "      <td>West</td>\n",
       "    </tr>\n",
       "  </tbody>\n",
       "</table>\n",
       "</div>"
      ],
      "text/plain": [
       "   order_id customer_name product  quantity  unit_price order_date region\n",
       "3         4           Eve  Laptop       2.0       750.0   1/7/2024   West\n",
       "5         4           Eve  Laptop       2.0       750.0   1/7/2024   West"
      ]
     },
     "execution_count": 224,
     "metadata": {},
     "output_type": "execute_result"
    }
   ],
   "source": [
    "duplicate_rows = df_full[df_full.duplicated(keep=False)]\n",
    "duplicate_rows"
   ]
  },
  {
   "cell_type": "markdown",
   "id": "682274cd",
   "metadata": {},
   "source": [
    "### 🔁 Observation: Duplicate Record\n",
    "\n",
    "The dataset contains **1 duplicate entry**, which appears to be an exact repetition of the following record:\n",
    "\n",
    "- **order_id**: 4  \n",
    "- **customer_name**: Eve  \n",
    "- **product**: Laptop  \n",
    "- **quantity**: 2.0  \n",
    "- **unit_price**: 2.0  \n",
    "- **order_date**: 1/7/2024  \n",
    "\n",
    "This duplicate should be investigated and possibly removed to maintain data integrity during analysis.\n"
   ]
  },
  {
   "cell_type": "code",
   "execution_count": 225,
   "id": "fefd4ad8",
   "metadata": {},
   "outputs": [
    {
     "data": {
      "application/vnd.microsoft.datawrangler.viewer.v0+json": {
       "columns": [
        {
         "name": "index",
         "rawType": "object",
         "type": "string"
        },
        {
         "name": "order_id",
         "rawType": "float64",
         "type": "float"
        },
        {
         "name": "quantity",
         "rawType": "float64",
         "type": "float"
        },
        {
         "name": "unit_price",
         "rawType": "float64",
         "type": "float"
        }
       ],
       "ref": "6a1b1830-7418-4821-b07a-92fc86cbcc69",
       "rows": [
        [
         "count",
         "100.0",
         "74.0",
         "65.0"
        ],
        [
         "mean",
         "50.48",
         "1.9594594594594594",
         "500.0"
        ],
        [
         "std",
         "29.04315145545756",
         "0.8182706319434138",
         "211.94781197266462"
        ],
        [
         "min",
         "1.0",
         "1.0",
         "250.0"
        ],
        [
         "25%",
         "25.75",
         "1.0",
         "250.0"
        ],
        [
         "50%",
         "50.5",
         "2.0",
         "500.0"
        ],
        [
         "75%",
         "75.25",
         "3.0",
         "750.0"
        ],
        [
         "max",
         "100.0",
         "3.0",
         "750.0"
        ]
       ],
       "shape": {
        "columns": 3,
        "rows": 8
       }
      },
      "text/html": [
       "<div>\n",
       "<style scoped>\n",
       "    .dataframe tbody tr th:only-of-type {\n",
       "        vertical-align: middle;\n",
       "    }\n",
       "\n",
       "    .dataframe tbody tr th {\n",
       "        vertical-align: top;\n",
       "    }\n",
       "\n",
       "    .dataframe thead th {\n",
       "        text-align: right;\n",
       "    }\n",
       "</style>\n",
       "<table border=\"1\" class=\"dataframe\">\n",
       "  <thead>\n",
       "    <tr style=\"text-align: right;\">\n",
       "      <th></th>\n",
       "      <th>order_id</th>\n",
       "      <th>quantity</th>\n",
       "      <th>unit_price</th>\n",
       "    </tr>\n",
       "  </thead>\n",
       "  <tbody>\n",
       "    <tr>\n",
       "      <th>count</th>\n",
       "      <td>100.000000</td>\n",
       "      <td>74.000000</td>\n",
       "      <td>65.000000</td>\n",
       "    </tr>\n",
       "    <tr>\n",
       "      <th>mean</th>\n",
       "      <td>50.480000</td>\n",
       "      <td>1.959459</td>\n",
       "      <td>500.000000</td>\n",
       "    </tr>\n",
       "    <tr>\n",
       "      <th>std</th>\n",
       "      <td>29.043151</td>\n",
       "      <td>0.818271</td>\n",
       "      <td>211.947812</td>\n",
       "    </tr>\n",
       "    <tr>\n",
       "      <th>min</th>\n",
       "      <td>1.000000</td>\n",
       "      <td>1.000000</td>\n",
       "      <td>250.000000</td>\n",
       "    </tr>\n",
       "    <tr>\n",
       "      <th>25%</th>\n",
       "      <td>25.750000</td>\n",
       "      <td>1.000000</td>\n",
       "      <td>250.000000</td>\n",
       "    </tr>\n",
       "    <tr>\n",
       "      <th>50%</th>\n",
       "      <td>50.500000</td>\n",
       "      <td>2.000000</td>\n",
       "      <td>500.000000</td>\n",
       "    </tr>\n",
       "    <tr>\n",
       "      <th>75%</th>\n",
       "      <td>75.250000</td>\n",
       "      <td>3.000000</td>\n",
       "      <td>750.000000</td>\n",
       "    </tr>\n",
       "    <tr>\n",
       "      <th>max</th>\n",
       "      <td>100.000000</td>\n",
       "      <td>3.000000</td>\n",
       "      <td>750.000000</td>\n",
       "    </tr>\n",
       "  </tbody>\n",
       "</table>\n",
       "</div>"
      ],
      "text/plain": [
       "         order_id   quantity  unit_price\n",
       "count  100.000000  74.000000   65.000000\n",
       "mean    50.480000   1.959459  500.000000\n",
       "std     29.043151   0.818271  211.947812\n",
       "min      1.000000   1.000000  250.000000\n",
       "25%     25.750000   1.000000  250.000000\n",
       "50%     50.500000   2.000000  500.000000\n",
       "75%     75.250000   3.000000  750.000000\n",
       "max    100.000000   3.000000  750.000000"
      ]
     },
     "execution_count": 225,
     "metadata": {},
     "output_type": "execute_result"
    }
   ],
   "source": [
    "df_full.describe()"
   ]
  },
  {
   "cell_type": "markdown",
   "id": "bdfe3276",
   "metadata": {},
   "source": [
    "### ⚠️ Observation : Suspicious Columns\n",
    "\n",
    "#### 1. Unusual Values in Numeric Columns\n",
    "From the statistical summary:\n",
    "\n",
    "- **`unit_price`** has a **minimum of 1.0**, which is suspiciously low for products like laptops, tablets, monitors, and phones. This may indicate a **data entry error** or a placeholder value.\n",
    "\n",
    "#### 2. Significant Missing Values\n",
    "\n",
    "- **`unit_price`** is missing in **35% of the rows (35 out of 100)**.\n",
    "- **`quantity`** is missing in **26% of the rows (26 out of 100)**.\n",
    "\n",
    "These two fields are **crucial for revenue calculations** (e.g., `revenue = quantity × unit_price`). Missing values in such critical columns reduce the dataset's analytical value.\n"
   ]
  },
  {
   "cell_type": "code",
   "execution_count": 226,
   "id": "383d2091",
   "metadata": {},
   "outputs": [],
   "source": [
    "# Export the df_full DataFrame to a CSV file named 'raw_data.csv' without including the index column\n",
    "df_full.to_csv(\"raw_data.csv\", index=False)\n"
   ]
  },
  {
   "cell_type": "markdown",
   "id": "6c1ada63",
   "metadata": {},
   "source": [
    "### "
   ]
  },
  {
   "cell_type": "markdown",
   "id": "7d4180ec",
   "metadata": {},
   "source": [
    "## **Incremental_Data**"
   ]
  },
  {
   "cell_type": "code",
   "execution_count": 227,
   "id": "b36dfdd5",
   "metadata": {},
   "outputs": [
    {
     "data": {
      "application/vnd.microsoft.datawrangler.viewer.v0+json": {
       "columns": [
        {
         "name": "index",
         "rawType": "int64",
         "type": "integer"
        },
        {
         "name": "order_id",
         "rawType": "int64",
         "type": "integer"
        },
        {
         "name": "customer_name",
         "rawType": "object",
         "type": "unknown"
        },
        {
         "name": "product",
         "rawType": "object",
         "type": "string"
        },
        {
         "name": "quantity",
         "rawType": "float64",
         "type": "float"
        },
        {
         "name": "unit_price",
         "rawType": "int64",
         "type": "integer"
        },
        {
         "name": "order_date",
         "rawType": "object",
         "type": "string"
        },
        {
         "name": "region",
         "rawType": "object",
         "type": "string"
        }
       ],
       "ref": "b44974dc-0e26-485f-b7fd-2e01c6ef601d",
       "rows": [
        [
         "0",
         "101",
         "Alice",
         "Laptop",
         null,
         "900",
         "5/9/2024",
         "Central"
        ],
        [
         "1",
         "102",
         null,
         "Laptop",
         "1.0",
         "300",
         "5/7/2024",
         "Central"
        ],
        [
         "2",
         "103",
         null,
         "Laptop",
         "1.0",
         "600",
         "5/4/2024",
         "Central"
        ],
        [
         "3",
         "104",
         null,
         "Tablet",
         null,
         "300",
         "5/26/2024",
         "Central"
        ],
        [
         "4",
         "105",
         "Heidi",
         "Tablet",
         "2.0",
         "600",
         "5/21/2024",
         "North"
        ]
       ],
       "shape": {
        "columns": 7,
        "rows": 5
       }
      },
      "text/html": [
       "<div>\n",
       "<style scoped>\n",
       "    .dataframe tbody tr th:only-of-type {\n",
       "        vertical-align: middle;\n",
       "    }\n",
       "\n",
       "    .dataframe tbody tr th {\n",
       "        vertical-align: top;\n",
       "    }\n",
       "\n",
       "    .dataframe thead th {\n",
       "        text-align: right;\n",
       "    }\n",
       "</style>\n",
       "<table border=\"1\" class=\"dataframe\">\n",
       "  <thead>\n",
       "    <tr style=\"text-align: right;\">\n",
       "      <th></th>\n",
       "      <th>order_id</th>\n",
       "      <th>customer_name</th>\n",
       "      <th>product</th>\n",
       "      <th>quantity</th>\n",
       "      <th>unit_price</th>\n",
       "      <th>order_date</th>\n",
       "      <th>region</th>\n",
       "    </tr>\n",
       "  </thead>\n",
       "  <tbody>\n",
       "    <tr>\n",
       "      <th>0</th>\n",
       "      <td>101</td>\n",
       "      <td>Alice</td>\n",
       "      <td>Laptop</td>\n",
       "      <td>NaN</td>\n",
       "      <td>900</td>\n",
       "      <td>5/9/2024</td>\n",
       "      <td>Central</td>\n",
       "    </tr>\n",
       "    <tr>\n",
       "      <th>1</th>\n",
       "      <td>102</td>\n",
       "      <td>NaN</td>\n",
       "      <td>Laptop</td>\n",
       "      <td>1.0</td>\n",
       "      <td>300</td>\n",
       "      <td>5/7/2024</td>\n",
       "      <td>Central</td>\n",
       "    </tr>\n",
       "    <tr>\n",
       "      <th>2</th>\n",
       "      <td>103</td>\n",
       "      <td>NaN</td>\n",
       "      <td>Laptop</td>\n",
       "      <td>1.0</td>\n",
       "      <td>600</td>\n",
       "      <td>5/4/2024</td>\n",
       "      <td>Central</td>\n",
       "    </tr>\n",
       "    <tr>\n",
       "      <th>3</th>\n",
       "      <td>104</td>\n",
       "      <td>NaN</td>\n",
       "      <td>Tablet</td>\n",
       "      <td>NaN</td>\n",
       "      <td>300</td>\n",
       "      <td>5/26/2024</td>\n",
       "      <td>Central</td>\n",
       "    </tr>\n",
       "    <tr>\n",
       "      <th>4</th>\n",
       "      <td>105</td>\n",
       "      <td>Heidi</td>\n",
       "      <td>Tablet</td>\n",
       "      <td>2.0</td>\n",
       "      <td>600</td>\n",
       "      <td>5/21/2024</td>\n",
       "      <td>North</td>\n",
       "    </tr>\n",
       "  </tbody>\n",
       "</table>\n",
       "</div>"
      ],
      "text/plain": [
       "   order_id customer_name product  quantity  unit_price order_date   region\n",
       "0       101         Alice  Laptop       NaN         900   5/9/2024  Central\n",
       "1       102           NaN  Laptop       1.0         300   5/7/2024  Central\n",
       "2       103           NaN  Laptop       1.0         600   5/4/2024  Central\n",
       "3       104           NaN  Tablet       NaN         300  5/26/2024  Central\n",
       "4       105         Heidi  Tablet       2.0         600  5/21/2024    North"
      ]
     },
     "execution_count": 227,
     "metadata": {},
     "output_type": "execute_result"
    }
   ],
   "source": [
    "df_incremental=pd.read_csv(\"incremental_data.csv\")\n",
    "df_incremental.head()"
   ]
  },
  {
   "cell_type": "code",
   "execution_count": 228,
   "id": "531f5d7d",
   "metadata": {},
   "outputs": [
    {
     "name": "stdout",
     "output_type": "stream",
     "text": [
      "<class 'pandas.core.frame.DataFrame'>\n",
      "RangeIndex: 10 entries, 0 to 9\n",
      "Data columns (total 7 columns):\n",
      " #   Column         Non-Null Count  Dtype  \n",
      "---  ------         --------------  -----  \n",
      " 0   order_id       10 non-null     int64  \n",
      " 1   customer_name  4 non-null      object \n",
      " 2   product        10 non-null     object \n",
      " 3   quantity       6 non-null      float64\n",
      " 4   unit_price     10 non-null     int64  \n",
      " 5   order_date     10 non-null     object \n",
      " 6   region         8 non-null      object \n",
      "dtypes: float64(1), int64(2), object(4)\n",
      "memory usage: 692.0+ bytes\n"
     ]
    }
   ],
   "source": [
    "df_incremental.info()"
   ]
  },
  {
   "cell_type": "markdown",
   "id": "0b282d86",
   "metadata": {},
   "source": [
    "### 📌 Observation: Missing Values\n",
    "\n",
    "The dataset contains missing values in several key columns:\n",
    "\n",
    "- **customer_name** → 6 missing entries (4 out of 10 non-null)\n",
    "- **quantity** → 4 missing entries (6 out of 10 non-null)\n",
    "- **region** → 2 missing entries (8 out of 10 non-null)"
   ]
  },
  {
   "cell_type": "code",
   "execution_count": 229,
   "id": "bd4e45f8",
   "metadata": {},
   "outputs": [
    {
     "data": {
      "text/plain": [
       "0"
      ]
     },
     "execution_count": 229,
     "metadata": {},
     "output_type": "execute_result"
    }
   ],
   "source": [
    "# Check for duplicate rows\n",
    "df_incremental.duplicated().sum()"
   ]
  },
  {
   "cell_type": "markdown",
   "id": "6c1e4913",
   "metadata": {},
   "source": [
    "### 📌 Observation: Duplicate Records\n",
    "\n",
    "There is **no duplicate record** in the incremental data.\n"
   ]
  },
  {
   "cell_type": "code",
   "execution_count": 230,
   "id": "018e0fa3",
   "metadata": {},
   "outputs": [
    {
     "data": {
      "application/vnd.microsoft.datawrangler.viewer.v0+json": {
       "columns": [
        {
         "name": "index",
         "rawType": "object",
         "type": "string"
        },
        {
         "name": "order_id",
         "rawType": "float64",
         "type": "float"
        },
        {
         "name": "quantity",
         "rawType": "float64",
         "type": "float"
        },
        {
         "name": "unit_price",
         "rawType": "float64",
         "type": "float"
        }
       ],
       "ref": "c6f118c6-231f-4d4d-bfe4-e4b5d731b44c",
       "rows": [
        [
         "count",
         "10.0",
         "6.0",
         "10.0"
        ],
        [
         "mean",
         "105.5",
         "1.5",
         "600.0"
        ],
        [
         "std",
         "3.0276503540974917",
         "0.5477225575051661",
         "200.0"
        ],
        [
         "min",
         "101.0",
         "1.0",
         "300.0"
        ],
        [
         "25%",
         "103.25",
         "1.0",
         "600.0"
        ],
        [
         "50%",
         "105.5",
         "1.5",
         "600.0"
        ],
        [
         "75%",
         "107.75",
         "2.0",
         "600.0"
        ],
        [
         "max",
         "110.0",
         "2.0",
         "900.0"
        ]
       ],
       "shape": {
        "columns": 3,
        "rows": 8
       }
      },
      "text/html": [
       "<div>\n",
       "<style scoped>\n",
       "    .dataframe tbody tr th:only-of-type {\n",
       "        vertical-align: middle;\n",
       "    }\n",
       "\n",
       "    .dataframe tbody tr th {\n",
       "        vertical-align: top;\n",
       "    }\n",
       "\n",
       "    .dataframe thead th {\n",
       "        text-align: right;\n",
       "    }\n",
       "</style>\n",
       "<table border=\"1\" class=\"dataframe\">\n",
       "  <thead>\n",
       "    <tr style=\"text-align: right;\">\n",
       "      <th></th>\n",
       "      <th>order_id</th>\n",
       "      <th>quantity</th>\n",
       "      <th>unit_price</th>\n",
       "    </tr>\n",
       "  </thead>\n",
       "  <tbody>\n",
       "    <tr>\n",
       "      <th>count</th>\n",
       "      <td>10.00000</td>\n",
       "      <td>6.000000</td>\n",
       "      <td>10.0</td>\n",
       "    </tr>\n",
       "    <tr>\n",
       "      <th>mean</th>\n",
       "      <td>105.50000</td>\n",
       "      <td>1.500000</td>\n",
       "      <td>600.0</td>\n",
       "    </tr>\n",
       "    <tr>\n",
       "      <th>std</th>\n",
       "      <td>3.02765</td>\n",
       "      <td>0.547723</td>\n",
       "      <td>200.0</td>\n",
       "    </tr>\n",
       "    <tr>\n",
       "      <th>min</th>\n",
       "      <td>101.00000</td>\n",
       "      <td>1.000000</td>\n",
       "      <td>300.0</td>\n",
       "    </tr>\n",
       "    <tr>\n",
       "      <th>25%</th>\n",
       "      <td>103.25000</td>\n",
       "      <td>1.000000</td>\n",
       "      <td>600.0</td>\n",
       "    </tr>\n",
       "    <tr>\n",
       "      <th>50%</th>\n",
       "      <td>105.50000</td>\n",
       "      <td>1.500000</td>\n",
       "      <td>600.0</td>\n",
       "    </tr>\n",
       "    <tr>\n",
       "      <th>75%</th>\n",
       "      <td>107.75000</td>\n",
       "      <td>2.000000</td>\n",
       "      <td>600.0</td>\n",
       "    </tr>\n",
       "    <tr>\n",
       "      <th>max</th>\n",
       "      <td>110.00000</td>\n",
       "      <td>2.000000</td>\n",
       "      <td>900.0</td>\n",
       "    </tr>\n",
       "  </tbody>\n",
       "</table>\n",
       "</div>"
      ],
      "text/plain": [
       "        order_id  quantity  unit_price\n",
       "count   10.00000  6.000000        10.0\n",
       "mean   105.50000  1.500000       600.0\n",
       "std      3.02765  0.547723       200.0\n",
       "min    101.00000  1.000000       300.0\n",
       "25%    103.25000  1.000000       600.0\n",
       "50%    105.50000  1.500000       600.0\n",
       "75%    107.75000  2.000000       600.0\n",
       "max    110.00000  2.000000       900.0"
      ]
     },
     "execution_count": 230,
     "metadata": {},
     "output_type": "execute_result"
    }
   ],
   "source": [
    "df_incremental.describe()"
   ]
  },
  {
   "cell_type": "markdown",
   "id": "d503e5ad",
   "metadata": {},
   "source": [
    "### ⚠️ Observation: Suspicious Columns\n",
    "\n",
    "- **unit_price** shows a potential anomaly:\n",
    "  - Most values are clustered at **600**, but there's a minimum of **300** and a maximum of **900**, suggesting possible inconsistencies in pricing or product types.\n",
    "- **quantity** has only 6 non-null entries out of 10, indicating a significant proportion of missing values (40%), which can affect analysis related to sales volume."
   ]
  },
  {
   "cell_type": "code",
   "execution_count": 231,
   "id": "ca3037ca",
   "metadata": {},
   "outputs": [],
   "source": [
    "# Export the df_incremental DataFrame to a CSV file named 'raw_data.csv' without including the index column\n",
    "df_incremental.to_csv(\"incremental_data.csv\", index=False)"
   ]
  }
 ],
 "metadata": {
  "kernelspec": {
   "display_name": "Python 3",
   "language": "python",
   "name": "python3"
  },
  "language_info": {
   "codemirror_mode": {
    "name": "ipython",
    "version": 3
   },
   "file_extension": ".py",
   "mimetype": "text/x-python",
   "name": "python",
   "nbconvert_exporter": "python",
   "pygments_lexer": "ipython3",
   "version": "3.12.10"
  }
 },
 "nbformat": 4,
 "nbformat_minor": 5
}
